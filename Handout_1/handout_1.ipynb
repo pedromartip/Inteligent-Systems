{
  "cells": [
    {
      "cell_type": "markdown",
      "metadata": {
        "id": "DFz9y2nkVWYd"
      },
      "source": [
        "Installing libraries"
      ]
    },
    {
      "cell_type": "code",
      "execution_count": 1,
      "metadata": {
        "id": "5lxA6RMKToBX"
      },
      "outputs": [
        {
          "ename": "ImportError",
          "evalue": "DLL load failed while importing _pywrap_tf2: El parámetro no es correcto.",
          "output_type": "error",
          "traceback": [
            "\u001b[1;31m---------------------------------------------------------------------------\u001b[0m",
            "\u001b[1;31mImportError\u001b[0m                               Traceback (most recent call last)",
            "\u001b[1;32mc:\\Users\\ca01770\\Documents\\GitHub\\Inteligent-Systems\\Handout_1\\handout_1.ipynb Celda 2\u001b[0m line \u001b[0;36m4\n\u001b[0;32m      <a href='vscode-notebook-cell:/c%3A/Users/ca01770/Documents/GitHub/Inteligent-Systems/Handout_1/handout_1.ipynb#W1sZmlsZQ%3D%3D?line=1'>2</a>\u001b[0m \u001b[39mfrom\u001b[39;00m \u001b[39msklearn\u001b[39;00m\u001b[39m.\u001b[39;00m\u001b[39mmodel_selection\u001b[39;00m \u001b[39mimport\u001b[39;00m train_test_split\n\u001b[0;32m      <a href='vscode-notebook-cell:/c%3A/Users/ca01770/Documents/GitHub/Inteligent-Systems/Handout_1/handout_1.ipynb#W1sZmlsZQ%3D%3D?line=2'>3</a>\u001b[0m \u001b[39mfrom\u001b[39;00m \u001b[39msklearn\u001b[39;00m\u001b[39m.\u001b[39;00m\u001b[39mpreprocessing\u001b[39;00m \u001b[39mimport\u001b[39;00m StandardScaler\n\u001b[1;32m----> <a href='vscode-notebook-cell:/c%3A/Users/ca01770/Documents/GitHub/Inteligent-Systems/Handout_1/handout_1.ipynb#W1sZmlsZQ%3D%3D?line=3'>4</a>\u001b[0m \u001b[39mfrom\u001b[39;00m \u001b[39mtensorflow\u001b[39;00m \u001b[39mimport\u001b[39;00m keras\n\u001b[0;32m      <a href='vscode-notebook-cell:/c%3A/Users/ca01770/Documents/GitHub/Inteligent-Systems/Handout_1/handout_1.ipynb#W1sZmlsZQ%3D%3D?line=4'>5</a>\u001b[0m \u001b[39mfrom\u001b[39;00m \u001b[39mkeras\u001b[39;00m \u001b[39mimport\u001b[39;00m layers\n",
            "File \u001b[1;32mc:\\Users\\ca01770\\Anaconda3\\envs\\AIV_UIB\\Lib\\site-packages\\tensorflow\\__init__.py:45\u001b[0m\n\u001b[0;32m     43\u001b[0m \u001b[39m# Make sure code inside the TensorFlow codebase can use tf2.enabled() at import.\u001b[39;00m\n\u001b[0;32m     44\u001b[0m _os\u001b[39m.\u001b[39menviron[\u001b[39m\"\u001b[39m\u001b[39mTF2_BEHAVIOR\u001b[39m\u001b[39m\"\u001b[39m] \u001b[39m=\u001b[39m \u001b[39m\"\u001b[39m\u001b[39m1\u001b[39m\u001b[39m\"\u001b[39m\n\u001b[1;32m---> 45\u001b[0m \u001b[39mfrom\u001b[39;00m \u001b[39mtensorflow\u001b[39;00m\u001b[39m.\u001b[39;00m\u001b[39mpython\u001b[39;00m \u001b[39mimport\u001b[39;00m tf2 \u001b[39mas\u001b[39;00m _tf2\n\u001b[0;32m     46\u001b[0m _tf2\u001b[39m.\u001b[39menable()\n\u001b[0;32m     48\u001b[0m \u001b[39mfrom\u001b[39;00m \u001b[39mtensorflow\u001b[39;00m\u001b[39m.\u001b[39;00m\u001b[39m_api\u001b[39;00m\u001b[39m.\u001b[39;00m\u001b[39mv2\u001b[39;00m \u001b[39mimport\u001b[39;00m __internal__\n",
            "File \u001b[1;32mc:\\Users\\ca01770\\Anaconda3\\envs\\AIV_UIB\\Lib\\site-packages\\tensorflow\\python\\tf2.py:21\u001b[0m\n\u001b[0;32m      1\u001b[0m \u001b[39m# Copyright 2018 The TensorFlow Authors. All Rights Reserved.\u001b[39;00m\n\u001b[0;32m      2\u001b[0m \u001b[39m#\u001b[39;00m\n\u001b[0;32m      3\u001b[0m \u001b[39m# Licensed under the Apache License, Version 2.0 (the \"License\");\u001b[39;00m\n\u001b[1;32m   (...)\u001b[0m\n\u001b[0;32m     13\u001b[0m \u001b[39m# limitations under the License.\u001b[39;00m\n\u001b[0;32m     14\u001b[0m \u001b[39m# ==============================================================================\u001b[39;00m\n\u001b[0;32m     15\u001b[0m \u001b[39m\"\"\"Tools to help with the TensorFlow 2.0 transition.\u001b[39;00m\n\u001b[0;32m     16\u001b[0m \n\u001b[0;32m     17\u001b[0m \u001b[39mThis module is meant for TensorFlow internal implementation, not for users of\u001b[39;00m\n\u001b[0;32m     18\u001b[0m \u001b[39mthe TensorFlow library. For that see tf.compat instead.\u001b[39;00m\n\u001b[0;32m     19\u001b[0m \u001b[39m\"\"\"\u001b[39;00m\n\u001b[1;32m---> 21\u001b[0m \u001b[39mfrom\u001b[39;00m \u001b[39mtensorflow\u001b[39;00m\u001b[39m.\u001b[39;00m\u001b[39mpython\u001b[39;00m\u001b[39m.\u001b[39;00m\u001b[39mplatform\u001b[39;00m \u001b[39mimport\u001b[39;00m _pywrap_tf2\n\u001b[0;32m     22\u001b[0m \u001b[39mfrom\u001b[39;00m \u001b[39mtensorflow\u001b[39;00m\u001b[39m.\u001b[39;00m\u001b[39mpython\u001b[39;00m\u001b[39m.\u001b[39;00m\u001b[39mutil\u001b[39;00m\u001b[39m.\u001b[39;00m\u001b[39mtf_export\u001b[39;00m \u001b[39mimport\u001b[39;00m tf_export\n\u001b[0;32m     25\u001b[0m \u001b[39mdef\u001b[39;00m \u001b[39menable\u001b[39m():\n\u001b[0;32m     26\u001b[0m   \u001b[39m# Enables v2 behaviors.\u001b[39;00m\n",
            "\u001b[1;31mImportError\u001b[0m: DLL load failed while importing _pywrap_tf2: El parámetro no es correcto."
          ]
        }
      ],
      "source": [
        "import numpy as np\n",
        "from sklearn.model_selection import train_test_split\n",
        "from sklearn.preprocessing import StandardScaler\n",
        "from tensorflow import keras\n",
        "from keras import layers"
      ]
    },
    {
      "cell_type": "markdown",
      "metadata": {
        "id": "0lye8lelU8CA"
      },
      "source": [
        "T2. Load the dataset in Python using the ARFF importer from the scipy library.\n"
      ]
    },
    {
      "cell_type": "code",
      "execution_count": 2,
      "metadata": {},
      "outputs": [],
      "source": [
        "#Cargamos los datos del txt\n",
        "data = np.loadtxt('C:/Users/ca01770/Documents/GitHub/Inteligent-Systems/Handout_1/ic_lab1.txt')\n",
        "X = data[:,:-1]\n",
        "y = data[:,-1]"
      ]
    },
    {
      "cell_type": "code",
      "execution_count": 3,
      "metadata": {},
      "outputs": [
        {
          "name": "stdout",
          "output_type": "stream",
          "text": [
            "Numero de clases = 3\n"
          ]
        }
      ],
      "source": [
        "# Asignamos las clases\n",
        "M = len(np.unique(y))\n",
        "print(f'Numero de clases = {M}')"
      ]
    },
    {
      "cell_type": "code",
      "execution_count": 4,
      "metadata": {},
      "outputs": [],
      "source": [
        "scaler = StandardScaler()\n",
        "X_ = scaler.fit_transform(X) # Normalisation\n",
        "X_train, X_test, y_train, y_test = train_test_split(X_, y, test_size=M, random_state=100) #Split dataset"
      ]
    },
    {
      "cell_type": "code",
      "execution_count": 2,
      "metadata": {
        "id": "NsQKWlC9UeSw"
      },
      "outputs": [],
      "source": [
        "# Definición de red neuronal de un solo hidden layer\n",
        "inputs = keras.Input(shape=(2,))\n",
        "x = layers.Dense(2, activation=\"relu\")(inputs)\n",
        "outputs = layers.Dense(1, activation=\"softmax\")(x)\n",
        "model1 = keras.Model(inputs, outputs)\n",
        "model1.summary()"
      ]
    },
    {
      "cell_type": "markdown",
      "metadata": {
        "id": "NBuU2LiGaYtU"
      },
      "source": [
        "**T3.** *Have a look at the dataset by means of methods info() and head(): find the column which stores class data (ground truth), determine the number of samples and features of this dataset, detect columns with missing*\n"
      ]
    }
  ],
  "metadata": {
    "colab": {
      "provenance": []
    },
    "kernelspec": {
      "display_name": "Python 3",
      "name": "python3"
    },
    "language_info": {
      "codemirror_mode": {
        "name": "ipython",
        "version": 3
      },
      "file_extension": ".py",
      "mimetype": "text/x-python",
      "name": "python",
      "nbconvert_exporter": "python",
      "pygments_lexer": "ipython3",
      "version": "3.11.5"
    }
  },
  "nbformat": 4,
  "nbformat_minor": 0
}
